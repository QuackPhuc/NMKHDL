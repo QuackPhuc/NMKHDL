{
  "metadata": {
    "kernelspec": {
      "language": "python",
      "display_name": "Python 3",
      "name": "python3"
    },
    "language_info": {
      "name": "python",
      "version": "3.10.14",
      "mimetype": "text/x-python",
      "codemirror_mode": {
        "name": "ipython",
        "version": 3
      },
      "pygments_lexer": "ipython3",
      "nbconvert_exporter": "python",
      "file_extension": ".py"
    },
    "kaggle": {
      "accelerator": "none",
      "dataSources": [],
      "dockerImageVersionId": 30786,
      "isInternetEnabled": true,
      "language": "python",
      "sourceType": "notebook",
      "isGpuEnabled": false
    }
  },
  "nbformat_minor": 4,
  "nbformat": 4,
  "cells": [
    {
      "cell_type": "markdown",
      "source": "# Import",
      "metadata": {}
    },
    {
      "cell_type": "code",
      "source": "import requests\nimport base64\nimport time\nimport pandas as pd\nimport csv\nimport json\nimport re\nimport random\nfrom requests import post, get",
      "metadata": {
        "trusted": true,
        "execution": {
          "iopub.status.busy": "2024-11-22T12:26:39.132026Z",
          "iopub.execute_input": "2024-11-22T12:26:39.132406Z",
          "iopub.status.idle": "2024-11-22T12:26:40.489597Z",
          "shell.execute_reply.started": "2024-11-22T12:26:39.132370Z",
          "shell.execute_reply": "2024-11-22T12:26:40.488175Z"
        }
      },
      "outputs": [],
      "execution_count": null
    },
    {
      "cell_type": "markdown",
      "source": "# Key",
      "metadata": {}
    },
    {
      "cell_type": "code",
      "source": "client_id = \"2422f03fd1d24dc499c55936b285bef7\"\nclient_secret = \"538b7681f2bc4e828196034cb34989cb\"",
      "metadata": {
        "trusted": true,
        "execution": {
          "iopub.status.busy": "2024-11-22T12:26:40.491960Z",
          "iopub.execute_input": "2024-11-22T12:26:40.492599Z",
          "iopub.status.idle": "2024-11-22T12:26:40.499006Z",
          "shell.execute_reply.started": "2024-11-22T12:26:40.492549Z",
          "shell.execute_reply": "2024-11-22T12:26:40.497266Z"
        }
      },
      "outputs": [],
      "execution_count": null
    },
    {
      "cell_type": "markdown",
      "source": "# Get token",
      "metadata": {}
    },
    {
      "cell_type": "code",
      "source": "def get_token(client_id, client_secret):\n    # Mã hóa client_id và client_secret thành base64\n    auth_string = f\"{client_id}:{client_secret}\"\n    auth_bytes = auth_string.encode('utf-8')\n    auth_base64 = base64.b64encode(auth_bytes).decode('utf-8')\n\n    # Thiết lập thông tin yêu cầu\n    auth_url = 'https://accounts.spotify.com/api/token'\n    headers = {\n        'Authorization': f'Basic {auth_base64}'\n    }\n    data = {\n        'grant_type': 'client_credentials'\n    }\n\n    # Gửi yêu cầu POST để lấy token\n    response = requests.post(auth_url, headers=headers, data=data)\n\n    # Kiểm tra phản hồi và trả về token nếu thành công\n    if response.status_code == 200:\n        token = response.json().get('access_token')\n        return token\n    else:\n        print(f\"Error: {response.status_code} - {response.text}\")\n        return None\n\ndef get_valid_token(client_id, client_secret):\n    token = None\n    while token is None:\n        token = get_token(client_id, client_secret)\n        if token is None:\n            print(\"Token expired or error. Retrying in 1 minute...\")\n            time.sleep(60)  # Nếu token không hợp lệ, chờ 1 phút và thử lại\n    return token\n\ntoken = get_valid_token(client_id, client_secret)\nif token:\n    print(f\"Access Token: {token}\")",
      "metadata": {
        "trusted": true,
        "execution": {
          "iopub.status.busy": "2024-11-22T12:26:40.500763Z",
          "iopub.execute_input": "2024-11-22T12:26:40.501200Z",
          "iopub.status.idle": "2024-11-22T12:26:40.563227Z",
          "shell.execute_reply.started": "2024-11-22T12:26:40.501149Z",
          "shell.execute_reply": "2024-11-22T12:26:40.562105Z"
        }
      },
      "outputs": [],
      "execution_count": null
    },
    {
      "cell_type": "markdown",
      "source": "# Get track ids",
      "metadata": {}
    },
    {
      "cell_type": "markdown",
      "source": "## Get keyword",
      "metadata": {}
    },
    {
      "cell_type": "code",
      "source": "KEYWORDS = 10000\ndef fetch_all_category_names(auth_token, locale=None, total_names=1000):\n    \"\"\"\n    Fetch up to 'total_names' category names using Spotify API pagination.\n    \n    Args:\n        auth_token (str): Spotify API authorization token.\n        locale (str, optional): Locale in ISO format (e.g., \"sv_SE\").\n        total_names (int): Total number of category names to fetch.\n    \n    Returns:\n        list: A list of up to 'total_names' category names.\n    \n    Raises:\n        requests.HTTPError: If the API request fails.\n        ValueError: If the response format is invalid.\n    \"\"\"\n    url = \"https://api.spotify.com/v1/browse/categories\"\n    headers = {\n        \"Authorization\": f\"Bearer {auth_token}\"\n    }\n    limit = 50  # Maximum items per request\n    offset = 0\n    category_names = []\n    global start_time\n\n    while len(category_names) < total_names:\n        params = {\n            \"locale\": locale,\n            \"limit\": limit,\n            \"offset\": offset\n        }\n        \n        if time.time() - start_time >= 2700:\n            token = get_valid_token(client_id, client_secret)\n            headers[\"Authorization\"] = f\"Bearer {auth_token}\"\n            start_time = time.time()\n            \n        response = requests.get(url, headers=headers, params=params)\n\n         # Handle rate limit (429)\n        if response.status_code == 429:\n            retry_after = int(response.headers.get(\"Retry-After\", 1))  # Default to 1 second\n            print(f\"Rate limit hit. Retrying after {retry_after} seconds.\")\n            time.sleep(retry_after)\n                \n        if response.status_code != 200:\n            response.raise_for_status()  # Handle HTTP errors\n        \n        data = response.json()\n        \n        try:\n            categories = data['categories']['items']\n            if not categories:  # No more data to fetch\n                break\n            \n            # Extract names and add them to the result list\n            category_names.extend([category['name'] for category in categories])\n            \n            # Update offset for the next page\n            offset += limit\n            \n            # Stop if we reach the total_names limit\n            if len(category_names) >= total_names:\n                category_names = category_names[:total_names]  # Truncate excess names\n                break\n        except KeyError:\n            raise ValueError(\"Invalid response format: 'categories' or 'items' key is missing.\")\n    \n    return category_names\n\ntoken = get_valid_token(client_id, client_secret)\nstart_time = time.time()\n\nlocales = [\n    \"en_US\", \"en_GB\", \"sv_SE\", \"fr_FR\", \"de_DE\", \n    \"es_ES\", \"es_MX\", \"it_IT\", \"zh_CN\", \"zh_TW\",\n    \"ja_JP\", \"ko_KR\", \"pt_PT\", \"pt_BR\", \"ru_RU\",\n    \"ar_SA\", \"nl_NL\", \"no_NO\", \"da_DK\"\n]\nkeywords = []\nfor locale in locales:\n    try:\n        print(f\"Fetching categories for locale: {locale}\")\n        categories = fetch_all_category_names(\n            auth_token=token, \n            locale=locale, \n            total_names=KEYWORDS\n        )\n        keywords.extend(categories)\n        print(f\"{len(categories)} categories fetched for locale\")\n    except Exception as e:\n        print(f\"Error fetching categories for locale {locale}: {e}\")\n\nprint(len(keywords))",
      "metadata": {
        "trusted": true,
        "execution": {
          "iopub.status.busy": "2024-11-22T12:38:53.212892Z",
          "iopub.execute_input": "2024-11-22T12:38:53.213267Z",
          "iopub.status.idle": "2024-11-22T12:38:57.198152Z",
          "shell.execute_reply.started": "2024-11-22T12:38:53.213235Z",
          "shell.execute_reply": "2024-11-22T12:38:57.196952Z"
        }
      },
      "outputs": [],
      "execution_count": null
    },
    {
      "cell_type": "code",
      "source": "def get_auth_header(token):\n    return {\"Authorization\": \"Bearer \" + token}\n\ndef search_playlists_by_keyword(token, keyword, limit=50):\n    url = f\"https://api.spotify.com/v1/search?q={keyword}&type=playlist&limit={limit}\"\n    headers = get_auth_header(token)\n    result = get(url, headers=headers)\n\n     # Handle rate limit (429)\n    if result.status_code == 429:\n        retry_after = int(result.headers.get(\"Retry-After\", 1))  # Default to 1 second\n        print(f\"Rate limit hit. Retrying after {retry_after} seconds.\")\n        time.sleep(retry_after)\n    \n    if result.status_code != 200:\n        print(f\"Failed to fetch playlists for keyword '{keyword}'. Status Code: {result.status_code}\")\n        return []\n\n    data = json.loads(result.content)\n    return data[\"playlists\"][\"items\"]\n\ndef get_all_tracks_from_playlist(token, playlist_id):\n    url = f\"https://api.spotify.com/v1/playlists/{playlist_id}/tracks\"\n    headers = get_auth_header(token)\n    all_tracks = []\n    \n    while url:\n        result = get(url, headers=headers)\n         \n        # Handle rate limit (429)\n        if result.status_code == 429:\n            retry_after = int(result.headers.get(\"Retry-After\", 1))  # Default to 1 second\n            print(f\"Rate limit hit. Retrying after {retry_after} seconds.\")\n            time.sleep(retry_after)\n            \n        if result.status_code != 200:\n            print(f\"Failed to fetch tracks for playlist {playlist_id}. Status Code: {result.status_code}\")\n            return all_tracks  # Trả về các tracks đã lấy được trước đó (nếu có)\n        \n        data = json.loads(result.content)\n        all_tracks.extend(data[\"items\"])  # Thêm tất cả các bài hát vào danh sách\n        \n        # Lấy URL của trang tiếp theo nếu có\n        url = data.get(\"next\")\n    \n    return all_tracks\n\ndef remove_duplicate_playlists(playlists):\n    \"\"\"Loại bỏ playlist trùng lặp dựa trên playlist ID.\"\"\"\n    unique_playlists = {}\n    for playlist in playlists:\n        if not playlist:  # Bỏ qua nếu playlist là None\n            continue\n        playlist_id = playlist.get(\"id\")\n        if playlist_id not in unique_playlists:\n            unique_playlists[playlist_id] = playlist\n    return list(unique_playlists.values())\n\nif __name__ == \"__main__\":\n    token = get_valid_token(client_id, client_secret)\n    start_time = time.time()\n\n    # Lấy playlist từ các từ khóa\n    playlists = []\n    for keyword in keywords:\n        if time.time() - start_time >= 2700:\n            token = get_valid_token(client_id, client_secret)\n            start_time = time.time()\n        playlists.extend(search_playlists_by_keyword(token, keyword, limit=50))\n        time.sleep(0.2)  # Nghỉ để tránh vượt quá hạn mức API\n\n    # Loại bỏ các playlist trùng lặp\n    unique_playlists = remove_duplicate_playlists(playlists)\n\n    # Tên file CSV\n    csv_file = \"track_ids.csv\"\n\n    # Ghi dữ liệu vào file CSV\n    with open(csv_file, mode=\"w\", newline=\"\", encoding=\"utf-8-sig\") as file:\n        writer = csv.writer(file)\n        \n        # Ghi tiêu đề cột\n        writer.writerow([\n            \"Playlist Name\", \"Playlist Owner\", \"Track Index\", \"Track Name\",\n            \"Track ID\", \"Artist Name\", \"Album Name\", \"Track URI\", \"Artist URI\",\n            \"Album URI\", \"Duration (ms)\"\n        ])\n        \n        # Lấy thông tin bài hát từ mỗi playlist\n        for idx, playlist in enumerate(unique_playlists):\n            playlist_name = playlist.get(\"name\", \"Unknown Playlist\")\n            playlist_owner = playlist.get(\"owner\", {}).get(\"display_name\", \"Unknown Owner\")\n            playlist_id = playlist.get(\"id\", None)\n\n            if not playlist_id:\n                print(f\"{idx + 1}. Skipped playlist with missing ID\")\n                continue\n\n            print(f\"\\n{idx + 1}. Playlist: {playlist_name} (Owner: {playlist_owner})\")\n\n            # Lấy tất cả các bài hát từ playlist này\n            if time.time() - start_time >= 2700:\n                token = get_valid_token(client_id, client_secret)\n                start_time = time.time()\n                \n            tracks = get_all_tracks_from_playlist(token, playlist_id)\n            print(f\"   Total Tracks Retrieved: {len(tracks)}\")\n\n            # Lưu thông tin từng bài hát vào file CSV\n            for track_idx, item in enumerate(tracks):\n                track = item.get(\"track\")\n                if not track:\n                    print(f\"      {track_idx + 1}. Invalid track (NoneType)\")\n                    continue\n\n                # Lấy thông tin track và kiểm tra các giá trị\n                track_name = track.get(\"name\", \"Unknown Track\")\n                track_id = track.get(\"id\", \"Unknown ID\")\n                artist_name = track.get(\"artists\", [{}])[0].get(\"name\", \"Unknown Artist\")\n                track_uri = track.get(\"uri\", \"Unknown URI\")\n                artist_uri = track.get(\"artists\", [{}])[0].get(\"uri\", \"Unknown URI\")\n                album_uri = track.get(\"album\", {}).get(\"uri\", \"Unknown URI\")\n                duration_ms = track.get(\"duration_ms\", \"Unknown Duration\")\n                album_name = track.get(\"album\", {}).get(\"name\", \"Unknown Album\")\n\n                # Ghi dữ liệu bài hát vào file CSV\n                writer.writerow([\n                    playlist_name, playlist_owner, track_idx + 1, track_name,\n                    track_id, artist_name, album_name, track_uri, artist_uri,\n                    album_uri, duration_ms\n                ])\n\n    print(f\"\\nData saved to {csv_file}\")",
      "metadata": {
        "trusted": true
      },
      "outputs": [],
      "execution_count": null
    },
    {
      "cell_type": "markdown",
      "source": "# Get features",
      "metadata": {}
    },
    {
      "cell_type": "markdown",
      "source": "## Save",
      "metadata": {}
    },
    {
      "cell_type": "code",
      "source": "def save_to_csv(data, filename='audio_features.csv'):\n    if data is not None:  # Kiểm tra xem dữ liệu có phải là None không\n        try:\n            # Kiểm tra dữ liệu có trong dạng đúng không\n            if isinstance(data, list) and isinstance(data[0], dict):\n                df = pd.DataFrame(data)\n                df.to_csv(filename, mode='a', header=not pd.io.common.file_exists(filename), index=False)\n                print(f\"Data saved to {filename}\")\n            else:\n                print(\"Data format is incorrect.\")\n        except Exception as e:\n            print(f\"Error saving to CSV: {e}\")\n    else:\n        print(\"No data to save.\")",
      "metadata": {
        "trusted": true
      },
      "outputs": [],
      "execution_count": null
    },
    {
      "cell_type": "markdown",
      "source": "## Request features from track id",
      "metadata": {}
    },
    {
      "cell_type": "code",
      "source": "def get_audio_features(track_ids, token):\n    url = 'https://api.spotify.com/v1/audio-features'\n    \n    # Chuyển tất cả các Track ID thành chuỗi\n    track_ids = map(str, track_ids)\n    \n    # Ghép các Track ID thành chuỗi\n    ids = ','.join(track_ids)\n    \n    headers = {'Authorization': f'Bearer {token}'}\n    \n    response = requests.get(f'{url}?ids={ids}', headers=headers)\n\n     # Handle rate limit (429)\n    if response.status_code == 429:\n        retry_after = int(response.headers.get(\"Retry-After\", 1))  # Default to 1 second\n        print(f\"Rate limit hit. Retrying after {retry_after} seconds.\")\n        time.sleep(retry_after)\n    \n    if response.status_code == 200:\n        return response.json()  # Trả về dữ liệu JSON nếu thành công\n    else:\n        print(f\"Error fetching data: {response.status_code}\")\n        return None  # Trả về None nếu có lỗi\n\n# Hàm xử lý các track từ CSV\ndef process_tracks_from_csv(file_path, client_id, client_secret):\n    # Lấy token từ client_id và client_secret\n    token = get_valid_token(client_id, client_secret)\n    start_time = time.time()\n    \n    if token is None:\n        print(\"Failed to get token.\")\n        return\n    \n    track_ids = []  # Danh sách track ids từ CSV\n    chunk_size = 100  # Số lượng track_id mỗi lần gọi API\n    \n    # Đọc file CSV và lấy Track ID\n    df = pd.read_csv(file_path)\n    track_ids = df['Track ID'].tolist()  # Giả sử cột 'Track ID' trong CSV\n\n    # Xử lý theo từng chunk\n    for i in range(0, len(track_ids), chunk_size):\n        if time.time() - start_time >= 2700: # 45 minutes\n            token = get_valid_token(client_id, client_secret)\n            start_time = time.time()\n            \n        track_ids_chunk = track_ids[i:i+chunk_size]\n        \n        audio_features = get_audio_features(track_ids_chunk, token)\n        \n        if audio_features:\n            save_to_csv(audio_features['audio_features'])  # Lưu dữ liệu vào CSV\n            #print(audio_features['audio_features'])\n        else:\n            print(\"No data returned for the chunk.\")\n",
      "metadata": {
        "trusted": true
      },
      "outputs": [],
      "execution_count": null
    },
    {
      "cell_type": "code",
      "source": "file_path = '/kaggle/working/track_ids.csv'  # Đường dẫn đến tệp CSV của bạn\nprocess_tracks_from_csv(file_path, client_id, client_secret)",
      "metadata": {
        "trusted": true
      },
      "outputs": [],
      "execution_count": null
    }
  ]
}